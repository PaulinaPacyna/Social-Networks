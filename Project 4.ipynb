{
 "cells": [
  {
   "cell_type": "code",
   "execution_count": 1,
   "metadata": {},
   "outputs": [],
   "source": [
    "c"
   ]
  },
  {
   "cell_type": "markdown",
   "metadata": {},
   "source": [
    "# 1.1"
   ]
  },
  {
   "cell_type": "markdown",
   "metadata": {},
   "source": [
    "Import the data, draw their histogram"
   ]
  },
  {
   "cell_type": "code",
   "execution_count": 2,
   "metadata": {},
   "outputs": [
    {
     "data": {
      "text/plain": [
       "(array([8358.,  931.,  317.,  180.,   83.,   47.,   31.,   19.,   20.,\n",
       "          14.]),\n",
       " array([ 100.,  256.,  412.,  568.,  724.,  880., 1036., 1192., 1348.,\n",
       "        1504., 1660.]),\n",
       " <BarContainer object of 10 artists>)"
      ]
     },
     "execution_count": 2,
     "metadata": {},
     "output_type": "execute_result"
    },
    {
     "data": {
      "image/png": "[encoded data removed]",
      "text/plain": [
       "<Figure size 432x288 with 1 Axes>"
      ]
     },
     "metadata": {
      "needs_background": "light"
     },
     "output_type": "display_data"
    }
   ],
   "source": [
    "obs = list(dict(nx.generators.barabasi_albert_graph(10000, 100).degree).values())\n",
    "plt.hist(obs)"
   ]
  },
  {
   "cell_type": "markdown",
   "metadata": {},
   "source": [
    "# 1.2"
   ]
  },
  {
   "cell_type": "markdown",
   "metadata": {},
   "source": [
    "Correct the scale of the plot’s axes to double logarithmic"
   ]
  },
  {
   "cell_type": "code",
   "execution_count": 3,
   "metadata": {},
   "outputs": [
    {
     "data": {
      "image/png": "[encoded data removed]",
      "text/plain": [
       "<Figure size 432x288 with 1 Axes>"
      ]
     },
     "metadata": {
      "needs_background": "light"
     },
     "output_type": "display_data"
    }
   ],
   "source": [
    "plt.hist(obs)\n",
    "plt.yscale('log')\n",
    "plt.xscale('log')"
   ]
  },
  {
   "cell_type": "markdown",
   "metadata": {},
   "source": [
    "# 1.3"
   ]
  },
  {
   "cell_type": "markdown",
   "metadata": {},
   "source": [
    "Apply logarithmic binning as well"
   ]
  },
  {
   "cell_type": "code",
   "execution_count": 4,
   "metadata": {},
   "outputs": [
    {
     "data": {
      "image/png": "[encoded data removed]",
      "text/plain": [
       "<Figure size 432x288 with 1 Axes>"
      ]
     },
     "metadata": {
      "needs_background": "light"
     },
     "output_type": "display_data"
    }
   ],
   "source": [
    "loglog_hist =plt.hist(obs, bins=np.exp(np.linspace(np.log(min(obs)), np.log(max(obs)), 20)))\n",
    "plt.yscale('log')\n",
    "plt.xscale('log')"
   ]
  },
  {
   "cell_type": "markdown",
   "metadata": {},
   "source": [
    "# 1.4"
   ]
  },
  {
   "cell_type": "markdown",
   "metadata": {},
   "source": [
    "Compute and draw the survival function"
   ]
  },
  {
   "cell_type": "code",
   "execution_count": 5,
   "metadata": {},
   "outputs": [
    {
     "data": {
      "text/plain": [
       "[<matplotlib.lines.Line2D at 0x1fb8008a070>]"
      ]
     },
     "execution_count": 5,
     "metadata": {},
     "output_type": "execute_result"
    },
    {
     "data": {
      "image/png": "[encoded data removed]",
      "text/plain": [
       "<Figure size 432x288 with 1 Axes>"
      ]
     },
     "metadata": {
      "needs_background": "light"
     },
     "output_type": "display_data"
    }
   ],
   "source": [
    "def survival(x: float, obs=obs) -> float:\n",
    "    # cumulative distribution function\n",
    "    cdf = len(list(filter(lambda v: v<x, obs)))/len(obs) # nr of observations less than x/nr of observations\n",
    "    return 1-cdf\n",
    "x_to_plot=np.unique(obs)\n",
    "y_to_plot=[survival(x) for x in x_to_plot]\n",
    "plt.plot(x_to_plot, y_to_plot)"
   ]
  },
  {
   "cell_type": "markdown",
   "metadata": {},
   "source": [
    "## 1.6"
   ]
  },
  {
   "cell_type": "code",
   "execution_count": 6,
   "metadata": {},
   "outputs": [
    {
     "data": {
      "text/plain": [
       "(array([[-1.01865426]]), array([1082.77193306]))"
      ]
     },
     "execution_count": 6,
     "metadata": {},
     "output_type": "execute_result"
    }
   ],
   "source": [
    "from sklearn.linear_model import LinearRegression\n",
    "log_y = loglog_hist[0].reshape(-1,1)\n",
    "log_x = np.array([(a+b)/2 for a,b in zip(loglog_hist[1][:-1], loglog_hist[1][1:], )]).reshape(-1,1) # middles of the intervals\n",
    "model = LinearRegression(fit_intercept=True).fit(log_x, log_y)\n",
    "model.coef_, model.intercept_"
   ]
  },
  {
   "cell_type": "markdown",
   "metadata": {},
   "source": [
    "$$\n",
    "\\alpha \\approx -1\\\\\n",
    "\\beta = 1089\\\\\n",
    "log(y) = \\alpha log(x) +\\beta\\\\\n",
    "y = e^\\beta x^\\alpha \\\\\n",
    "\\therefore y \\sim C\\frac{1}{x}$$"
   ]
  },
  {
   "cell_type": "markdown",
   "metadata": {},
   "source": [
    "# 1.7"
   ]
  },
  {
   "cell_type": "markdown",
   "metadata": {},
   "source": [
    "$$ \n",
    "L(x; \\alpha ) = \\prod_{i=1}^n \\big [ \\frac{\\alpha-1}{x_{min}}(\\frac{x_i}{x_{min}})^{-a} \\big ]\\\\\n",
    "\\log L(x; \\alpha ) = n\\log(\\alpha-1) - (\\alpha+1)\\log(x_{min}) -\\alpha\\sum_{i=1}^n log(x_i)\n",
    "$$\n"
   ]
  },
  {
   "cell_type": "markdown",
   "metadata": {},
   "source": [
    "$$\n",
    "\\frac{d}{d\\alpha} \\log L(x; \\alpha ) = \\frac{n}{\\alpha-1} - log(x_{min}) - \\sum_{i=1}^n log(x_i) \\\\\n",
    "\\frac{d}{d\\alpha} \\log L(x; \\alpha ) = 0 \\Leftrightarrow \\alpha = 1 + \\frac{n} { log(x_{min}) + \\sum_{i=1}^n log(x_i)}\n",
    "$$"
   ]
  },
  {
   "cell_type": "code",
   "execution_count": 7,
   "metadata": {},
   "outputs": [
    {
     "data": {
      "text/plain": [
       "1.1953677715433466"
      ]
     },
     "execution_count": 7,
     "metadata": {},
     "output_type": "execute_result"
    }
   ],
   "source": [
    "def mle(obs):\n",
    "    x_min = min(obs) # probably a biased estimator of x_min\n",
    "    return 1+ len(obs)/(np.log(x_min) + sum(np.log(obs)))\n",
    "mle(obs)"
   ]
  },
  {
   "cell_type": "markdown",
   "metadata": {},
   "source": [
    "# 4.1\n",
    "Collect obtained scripts for power distribution analysis in onefile. We will use them again and again. [20%]"
   ]
  },
  {
   "cell_type": "markdown",
   "metadata": {},
   "source": [
    "# 4.3\n",
    "Determine the dependence of the average degree of the nearestneighbor on the degree of the vertex for selected real or artificalnetworks. [20%]"
   ]
  },
  {
   "cell_type": "code",
   "execution_count": 8,
   "metadata": {},
   "outputs": [],
   "source": [
    "def avg_degree(G: nx.Graph, k: int) -> float:\n",
    "    dg =  dict(G.degree)\n",
    "    k_nodes = [n for n, v in dg.items() if v==k] \n",
    "    averages = list(sum(dg[i] for i in G.neighbors(node))/k\n",
    "            for node in k_nodes) ## list of Average degree of the nearest node for each node of degree k \n",
    "    return np.mean(averages)"
   ]
  },
  {
   "cell_type": "code",
   "execution_count": 9,
   "metadata": {},
   "outputs": [
    {
     "data": {
      "text/plain": [
       "(0.0, 279.9072538860104)"
      ]
     },
     "execution_count": 9,
     "metadata": {},
     "output_type": "execute_result"
    },
    {
     "data": {
      "image/png": "[encoded data removed]",
      "text/plain": [
       "<Figure size 432x288 with 1 Axes>"
      ]
     },
     "metadata": {
      "needs_background": "light"
     },
     "output_type": "display_data"
    }
   ],
   "source": [
    "G = nx.generators.barabasi_albert_graph(1000, 100)\n",
    "X = np.unique(list(dict(G.degree).values()))\n",
    "Y = list(map(lambda x: avg_degree(G, x), X))\n",
    "plt.plot(X, Y)\n",
    "plt.ylim(0, max(Y)*1.1)"
   ]
  },
  {
   "cell_type": "markdown",
   "metadata": {},
   "source": [
    "# 4.4\n",
    "Check how random edge switching affects the result of theprevious task. [20%]\n"
   ]
  },
  {
   "cell_type": "code",
   "execution_count": 10,
   "metadata": {},
   "outputs": [
    {
     "data": {
      "text/plain": [
       "(0.0, 264.0711764705883)"
      ]
     },
     "execution_count": 10,
     "metadata": {},
     "output_type": "execute_result"
    },
    {
     "data": {
      "image/png": "[encoded data removed]",
      "text/plain": [
       "<Figure size 432x288 with 1 Axes>"
      ]
     },
     "metadata": {
      "needs_background": "light"
     },
     "output_type": "display_data"
    }
   ],
   "source": [
    "G = nx.algorithms.swap.double_edge_swap(G, nswap=len(G.edges)*2, max_tries=len(G.edges)*5)\n",
    "X = np.unique(list(dict(G.degree).values()))\n",
    "Y = list(map(lambda x: avg_degree(G, x), X))\n",
    "plt.plot(X, Y)\n",
    "plt.ylim(0, max(Y)*1.1)"
   ]
  },
  {
   "cell_type": "markdown",
   "metadata": {},
   "source": [
    "## 5"
   ]
  },
  {
   "cell_type": "code",
   "execution_count": 11,
   "metadata": {},
   "outputs": [
    {
     "data": {
      "text/html": [
       "<div>\n",
       "<style scoped>\n",
       "    .dataframe tbody tr th:only-of-type {\n",
       "        vertical-align: middle;\n",
       "    }\n",
       "\n",
       "    .dataframe tbody tr th {\n",
       "        vertical-align: top;\n",
       "    }\n",
       "\n",
       "    .dataframe thead th {\n",
       "        text-align: right;\n",
       "    }\n",
       "</style>\n",
       "<table border=\"1\" class=\"dataframe\">\n",
       "  <thead>\n",
       "    <tr style=\"text-align: right;\">\n",
       "      <th></th>\n",
       "      <th>name</th>\n",
       "      <th>directed</th>\n",
       "      <th>N</th>\n",
       "      <th>E</th>\n",
       "      <th>&lt;k&gt;</th>\n",
       "      <th>a</th>\n",
       "      <th>l</th>\n",
       "      <th>r</th>\n",
       "    </tr>\n",
       "  </thead>\n",
       "  <tbody>\n",
       "    <tr>\n",
       "      <th>0</th>\n",
       "      <td>BA</td>\n",
       "      <td>False</td>\n",
       "      <td>1000</td>\n",
       "      <td>9900</td>\n",
       "      <td>19.800000</td>\n",
       "      <td>1.356860</td>\n",
       "      <td>2.541710</td>\n",
       "      <td>-0.057455</td>\n",
       "    </tr>\n",
       "    <tr>\n",
       "      <th>1</th>\n",
       "      <td>BA edge switch</td>\n",
       "      <td>False</td>\n",
       "      <td>1000</td>\n",
       "      <td>9900</td>\n",
       "      <td>19.800000</td>\n",
       "      <td>1.356860</td>\n",
       "      <td>2.541710</td>\n",
       "      <td>-0.057455</td>\n",
       "    </tr>\n",
       "    <tr>\n",
       "      <th>2</th>\n",
       "      <td>scale free directed</td>\n",
       "      <td>True</td>\n",
       "      <td>1000</td>\n",
       "      <td>2187</td>\n",
       "      <td>4.374000</td>\n",
       "      <td>2.756592</td>\n",
       "      <td>0.164074</td>\n",
       "      <td>0.042834</td>\n",
       "    </tr>\n",
       "    <tr>\n",
       "      <th>3</th>\n",
       "      <td>ER</td>\n",
       "      <td>False</td>\n",
       "      <td>1000</td>\n",
       "      <td>199935</td>\n",
       "      <td>399.870000</td>\n",
       "      <td>1.166770</td>\n",
       "      <td>1.599730</td>\n",
       "      <td>-0.003305</td>\n",
       "    </tr>\n",
       "    <tr>\n",
       "      <th>4</th>\n",
       "      <td>real-world</td>\n",
       "      <td>False</td>\n",
       "      <td>5908</td>\n",
       "      <td>41729</td>\n",
       "      <td>14.126269</td>\n",
       "      <td>1.503929</td>\n",
       "      <td>4.664107</td>\n",
       "      <td>0.018244</td>\n",
       "    </tr>\n",
       "  </tbody>\n",
       "</table>\n",
       "</div>"
      ],
      "text/plain": [
       "                  name  directed     N       E         <k>         a  \\\n",
       "0                   BA     False  1000    9900   19.800000  1.356860   \n",
       "1       BA edge switch     False  1000    9900   19.800000  1.356860   \n",
       "2  scale free directed      True  1000    2187    4.374000  2.756592   \n",
       "3                   ER     False  1000  199935  399.870000  1.166770   \n",
       "4           real-world     False  5908   41729   14.126269  1.503929   \n",
       "\n",
       "          l         r  \n",
       "0  2.541710 -0.057455  \n",
       "1  2.541710 -0.057455  \n",
       "2  0.164074  0.042834  \n",
       "3  1.599730 -0.003305  \n",
       "4  4.664107  0.018244  "
      ]
     },
     "execution_count": 11,
     "metadata": {},
     "output_type": "execute_result"
    }
   ],
   "source": [
    "def summary(G : nx.graph, name='', directed=False) -> dict:\n",
    "    degrees = list(dict(G.degree).values())\n",
    "    return {\n",
    "        'name': name,\n",
    "        'directed': directed,\n",
    "        'N' : len(G.nodes),\n",
    "        'E' : len(G.edges),\n",
    "        '<k>': np.mean(degrees),\n",
    "        'a': mle(degrees),\n",
    "        'l': nx.average_shortest_path_length(G),\n",
    "        'r': nx.degree_pearson_correlation_coefficient(G)\n",
    "    }\n",
    "ba = nx.generators.barabasi_albert_graph(1000, 10)\n",
    "graphs = [{'G': ba, 'name' : 'BA'},\n",
    "          {'G': nx.algorithms.swap.double_edge_swap(ba, nswap=len(ba.edges)*2, max_tries=len(ba.edges)*5), \n",
    "           'name' : 'BA edge switch'},\n",
    "          {'G': nx.generators.directed.scale_free_graph(1000), 'name': 'scale free directed', 'directed' : True},\n",
    "          {'G': nx.generators.erdos_renyi_graph(1000, 0.4), 'name': \"ER\"},\n",
    "          {'G': nx.readwrite.edgelist.read_edgelist('fb-pages-politician.edges', delimiter=','), 'name': 'real-world'}]\n",
    "pd.DataFrame([summary(**kwargs) for kwargs in graphs])"
   ]
  },
  {
   "cell_type": "code",
   "execution_count": null,
   "metadata": {},
   "outputs": [],
   "source": []
  }
 ],
 "metadata": {
  "kernelspec": {
   "display_name": "AML_log_regression_optimization",
   "language": "python",
   "name": "aml_log_regression_optimization"
  },
  "language_info": {
   "codemirror_mode": {
    "name": "ipython",
    "version": 3
   },
   "file_extension": ".py",
   "mimetype": "text/x-python",
   "name": "python",
   "nbconvert_exporter": "python",
   "pygments_lexer": "ipython3",
   "version": "3.8.8"
  }
 },
 "nbformat": 4,
 "nbformat_minor": 4
}
