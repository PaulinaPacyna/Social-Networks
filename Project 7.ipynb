{
 "cells": [
  {
   "cell_type": "code",
   "execution_count": 1,
   "metadata": {},
   "outputs": [],
   "source": [
    "import networkx as nx\n",
    "import matplotlib.pyplot as plt\n",
    "import numpy as np\n",
    "from numpy.random import choice\n",
    "from SNARS import Snars"
   ]
  },
  {
   "cell_type": "markdown",
   "metadata": {},
   "source": [
    "# 7.4 [20%]\n",
    "From Bayes rule:\n",
    "$Q(k) = P(\\text{egde is conected with a node of degree } k)$\n",
    "\n",
    "$ = P(\\text{edge is connected to a node v }| deg(v)=k)*P(deg(v)=k)$\n",
    "\n",
    "$P(\\text{edge is connected to a node v }| deg(v)=k) \\propto k$\n",
    "\n",
    "$P(deg(v)=k) = P(k)$\n",
    "\n",
    "Therefore $Q(k) \\propto kP(k), Q(k) =ckP(k)$ for some contstant $c$.\n",
    "\n",
    "$Q$ is a probability function, \n",
    "\n",
    "therefore $\\sum_k cQ(k) = \\sum_k ckP(k) = c\\langle k\\rangle = 1 \\Rightarrow c=\\frac{1}{c\\langle k\\rangle} \\Rightarrow Q(k) = \\frac{kP(k)}{\\langle k\\rangle}$"
   ]
  },
  {
   "cell_type": "markdown",
   "metadata": {},
   "source": [
    "# 7.6 [20%]\n",
    "The degree distribution in ER graphs is $Binomial(N, \\frac{\\langle k\\rangle}{N})$.\n",
    "\n",
    "$p=\\frac{\\langle k\\rangle}{N}$\n",
    "\n",
    "$\\frac{\\langle k^2\\rangle}{\\langle k\\rangle} = \\frac{Var (k) + {\\langle k\\rangle}^2}{\\langle k\\rangle} = \\frac{np(1-p) + n^2p^2}{np}$\n",
    "\n",
    "$= (1-p) + np = 2 \\Rightarrow p(n-1) =1 \\Rightarrow p = \\frac{1}{n-1}$"
   ]
  },
  {
   "cell_type": "markdown",
   "metadata": {},
   "source": [
    "## 7.7[20%]"
   ]
  },
  {
   "cell_type": "code",
   "execution_count": 3,
   "metadata": {},
   "outputs": [
    {
     "data": {
      "image/png": "[encoded data removed]",
      "text/plain": [
       "<Figure size 432x288 with 1 Axes>"
      ]
     },
     "metadata": {
      "needs_background": "light"
     },
     "output_type": "display_data"
    }
   ],
   "source": [
    "N=100\n",
    "X = np.exp(np.linspace(np.log(0.0001), np.log(N), N*5))\n",
    "Y = np.zeros(X.shape)\n",
    "for m in range(20):\n",
    "    y = np.array([])\n",
    "    for p in X:\n",
    "        G = nx.generators.erdos_renyi_graph(n=N, p=p)\n",
    "        y = np.append(y, len(max(nx.connected_components(G), key=len)))\n",
    "    Y+=y/20\n",
    "plt.plot(X*N, Y)\n",
    "plt.ylabel('Size of cluster')\n",
    "_ = plt.xlabel('<k>')"
   ]
  },
  {
   "cell_type": "markdown",
   "metadata": {},
   "source": [
    "# 7.8[20%]\n",
    "1.\n",
    "\n",
    "$ G_0(1) = \\sum_k P(k) 1^k = \\sum_k P(k)  =1 $\n",
    "\n",
    "2.\n",
    "\n",
    "$ G_0^{(n)}(1) = (\\sum_k P(k) x^k)^{(n)} = (W_{n-1}(x) + \\sum_{k>=n} P(k) x^k)^{(n)}$\n",
    "\n",
    "$W_{n-1}(x)$ is a polynomial of degree at most $n-1$, so the nth derivative is zero\n",
    "\n",
    "$ =\\sum_{k>=n} P(k) (  x^k)^{(n)} $\n",
    "\n",
    "$ =\\sum_{k>=n} P(k)   x^{k-n}k\\cdot(k-1)\\cdot...\\cdot(k-n+1)$\n",
    "\n",
    "Lets put $x=1$\n",
    "\n",
    "$= \\sum_{k>=n} P(k)   k\\cdot(k-1)\\cdot...\\cdot(k-n+1) + \\sum_{k=0}^{n-1} P(k)   k\\cdot(k-1)\\cdot...\\cdot(k-n+1)$ \n",
    "\n",
    "$=\\sum_{k>=0} P(k)   k\\cdot(k-1)\\cdot...\\cdot(k-n+1) $\n",
    "\n",
    "$ = \\langle (k)\\cdot(k-1)\\cdot...\\cdot(k-n +1)\\rangle $\n",
    "\n",
    "3.\n",
    "\n",
    "On the paper"
   ]
  },
  {
   "cell_type": "markdown",
   "metadata": {},
   "source": [
    "# 7.5 [30%]\n",
    "$\\sum_k kQ(k)$ is the mean degree on nodes connected with an edge. If we say that the mean degree of nodes connected to an edge has to be greater or equal to 2, we say that on average each node has to have at least 2 edges.\n",
    "$$\\sum_k kQ(k) = \\sum_k k^2\\frac{P(k)}{\\langle k\\rangle} = \\frac{\\langle k^2\\rangle}{\\langle k\\rangle}$$"
   ]
  }
 ],
 "metadata": {
  "kernelspec": {
   "display_name": "AML_log_regression_optimization",
   "language": "python",
   "name": "aml_log_regression_optimization"
  },
  "language_info": {
   "codemirror_mode": {
    "name": "ipython",
    "version": 3
   },
   "file_extension": ".py",
   "mimetype": "text/x-python",
   "name": "python",
   "nbconvert_exporter": "python",
   "pygments_lexer": "ipython3",
   "version": "3.8.8"
  }
 },
 "nbformat": 4,
 "nbformat_minor": 4
}
