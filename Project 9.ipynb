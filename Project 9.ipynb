{
 "cells": [
  {
   "cell_type": "code",
   "execution_count": 1,
   "metadata": {},
   "outputs": [],
   "source": [
    "%config Completer.use_jedi = False"
   ]
  },
  {
   "cell_type": "code",
   "execution_count": 2,
   "metadata": {},
   "outputs": [],
   "source": [
    "from pyvis import network as pvnet"
   ]
  },
  {
   "cell_type": "code",
   "execution_count": 3,
   "metadata": {},
   "outputs": [],
   "source": [
    "import networkx as nx\n",
    "import pandas as pd\n",
    "import matplotlib.pyplot as plt\n",
    "import scipy\n",
    "import numpy as np\n",
    "from networkx.drawing.nx_pydot import write_dot"
   ]
  },
  {
   "cell_type": "markdown",
   "metadata": {},
   "source": [
    "# Auxiliary functions"
   ]
  },
  {
   "cell_type": "code",
   "execution_count": 4,
   "metadata": {},
   "outputs": [
    {
     "data": {
      "text/plain": [
       "array([[0.17, 0.  , 0.  , 0.  , 0.22],\n",
       "       [0.41, 0.21, 0.  , 0.46, 0.78],\n",
       "       [0.  , 0.  , 0.  , 0.16, 0.  ],\n",
       "       [0.  , 0.79, 1.  , 0.38, 0.  ],\n",
       "       [0.42, 0.  , 0.  , 0.  , 0.  ]])"
      ]
     },
     "execution_count": 4,
     "metadata": {},
     "output_type": "execute_result"
    }
   ],
   "source": [
    "def random_stochastic(N: int, seed=None) -> np.array:\n",
    "    \"\"\"Returns a random stochastic matrix of shape NxN\"\"\"\n",
    "    np.random.seed(seed)\n",
    "    M = np.random.rand(N, N)\n",
    "    for _ in range(np.random.randint(0, N*N)):\n",
    "        M[np.random.randint(0, N), np.random.randint(0, N)] =0\n",
    "    \n",
    "    M = M/M.sum(axis=0)\n",
    "    np.random.seed() #reset\n",
    "    return M\n",
    "\n",
    "M = random_stochastic(5, seed=41)\n",
    "M.round(2)"
   ]
  },
  {
   "cell_type": "code",
   "execution_count": 5,
   "metadata": {},
   "outputs": [
    {
     "data": {
      "text/html": [
       "\n",
       "        <iframe\n",
       "            width=\"500px\"\n",
       "            height=\"300px\"\n",
       "            src=\"out.html\"\n",
       "            frameborder=\"0\"\n",
       "            allowfullscreen\n",
       "        ></iframe>\n",
       "        "
      ],
      "text/plain": [
       "<IPython.lib.display.IFrame at 0x239a23c6670>"
      ]
     },
     "execution_count": 5,
     "metadata": {},
     "output_type": "execute_result"
    }
   ],
   "source": [
    "def plot_g_pyviz(G, name='out.html', height='300px', width='500px'):\n",
    "    g = G.copy() # some attributes added to nodes\n",
    "    net = pvnet.Network(notebook=True, directed=True, height=height, width=width)\n",
    "    opts = '''\n",
    "        var options = {\n",
    "          \"physics\": {\n",
    "            \"forceAtlas2Based\": {\n",
    "              \"gravitationalConstant\": -100,\n",
    "              \"centralGravity\": 0.11,\n",
    "              \"springLength\": 100,\n",
    "              \"springConstant\": 0.09,\n",
    "              \"avoidOverlap\": 1\n",
    "            },\n",
    "            \"minVelocity\": 0.75,\n",
    "            \"solver\": \"forceAtlas2Based\",\n",
    "            \"timestep\": 0.22\n",
    "          }\n",
    "        }\n",
    "    '''\n",
    "\n",
    "    net.set_options(opts)\n",
    "    net.from_nx(g)\n",
    "    return net.show(name)\n",
    "def visualize_Markov(M):\n",
    "    N = M.shape[0]\n",
    "    G= nx.MultiDiGraph()\n",
    "    [G.add_node(n) for n in range(N)]\n",
    "    for row in range(N):\n",
    "        for col in range(N):\n",
    "            rate = M[row, col]\n",
    "            if rate > 1e-6:\n",
    "                G.add_edge(col, row, weight = rate, label = np.round(rate, 2))\n",
    "    return plot_g_pyviz(G.copy())\n",
    "visualize_Markov(M)"
   ]
  },
  {
   "cell_type": "markdown",
   "metadata": {},
   "source": [
    "# 9.1"
   ]
  },
  {
   "cell_type": "markdown",
   "metadata": {},
   "source": [
    "Na początku rozpisałam sobie przykładową macierz na podstawie małego grafu i zobaczyłam co się stanie."
   ]
  },
  {
   "cell_type": "code",
   "execution_count": 6,
   "metadata": {},
   "outputs": [
    {
     "data": {
      "image/png": "[encoded data removed]",
      "text/plain": [
       "<Figure size 432x288 with 1 Axes>"
      ]
     },
     "metadata": {},
     "output_type": "display_data"
    }
   ],
   "source": [
    "G = nx.Graph()\n",
    "for e in [(0,3), (2, 3), (3,1), (1,2)]:\n",
    "    G.add_edge(*e)\n",
    "nx.draw_circular(G, with_labels=True, font_size=30)"
   ]
  },
  {
   "cell_type": "code",
   "execution_count": 7,
   "metadata": {
    "scrolled": false
   },
   "outputs": [
    {
     "data": {
      "text/plain": [
       "array([[0.        , 0.        , 0.        , 0.33333333],\n",
       "       [0.        , 0.        , 0.5       , 0.33333333],\n",
       "       [0.        , 0.5       , 0.        , 0.33333333],\n",
       "       [1.        , 0.5       , 0.5       , 0.        ]])"
      ]
     },
     "execution_count": 7,
     "metadata": {},
     "output_type": "execute_result"
    }
   ],
   "source": [
    "X = np.array([[0, 0, 0, 1/3],[0, 0, 1/2, 1/3], [0, 1/2, 0, 1/3], [1, 1/2, 1/2, 0]])\n",
    "X"
   ]
  },
  {
   "cell_type": "code",
   "execution_count": 8,
   "metadata": {},
   "outputs": [
    {
     "data": {
      "text/html": [
       "\n",
       "        <iframe\n",
       "            width=\"500px\"\n",
       "            height=\"300px\"\n",
       "            src=\"out.html\"\n",
       "            frameborder=\"0\"\n",
       "            allowfullscreen\n",
       "        ></iframe>\n",
       "        "
      ],
      "text/plain": [
       "<IPython.lib.display.IFrame at 0x239a34a2d90>"
      ]
     },
     "execution_count": 8,
     "metadata": {},
     "output_type": "execute_result"
    }
   ],
   "source": [
    "visualize_Markov(X)"
   ]
  },
  {
   "cell_type": "code",
   "execution_count": 9,
   "metadata": {
    "scrolled": true
   },
   "outputs": [
    {
     "data": {
      "text/plain": [
       "array([[0.125, 0.125, 0.125, 0.125],\n",
       "       [0.25 , 0.25 , 0.25 , 0.25 ],\n",
       "       [0.25 , 0.25 , 0.25 , 0.25 ],\n",
       "       [0.375, 0.375, 0.375, 0.375]])"
      ]
     },
     "execution_count": 9,
     "metadata": {},
     "output_type": "execute_result"
    }
   ],
   "source": [
    "new = X.copy()\n",
    "for i in range(30):\n",
    "    new= np.dot(new, new)\n",
    "    new = new/new.sum(0)\n",
    "new"
   ]
  },
  {
   "cell_type": "markdown",
   "metadata": {},
   "source": [
    "Teraz czas na dowód:\n",
    "Oznaczenie $[X]_{ij}$ - element macierzy $X$ w wierszu $i$ i kolumnie $j$\n",
    "\n",
    "Niech $P$ będzie macierzą procesu Markowa, a $k$ będzie wektorem stopni kolejnych wierzchołków.\n",
    "\n",
    "$P_{ji}= \\frac{A_{ij}}{k_i}$\n",
    "\n",
    "$[Pk]_{s} = \\sum_l P_{sl}k_l = \\sum_l \\frac{A_{ls}}{k_l}k_l =\\sum_l A_{ls} = k_s $\n",
    "\n",
    "$Pk =k$\n",
    "\n",
    "Zatem $\\dot k:=\\frac{k}{\\sum_i k_i}$ jest rozkładem stacjonarnym."
   ]
  },
  {
   "cell_type": "markdown",
   "metadata": {},
   "source": [
    "Rozkład ergodyczny dla takich macierzy nie zawsze istnieje. Kontrprzykład:"
   ]
  },
  {
   "cell_type": "code",
   "execution_count": 10,
   "metadata": {},
   "outputs": [
    {
     "data": {
      "image/png": "[encoded data removed]",
      "text/plain": [
       "<Figure size 432x288 with 1 Axes>"
      ]
     },
     "metadata": {},
     "output_type": "display_data"
    }
   ],
   "source": [
    "G = nx.Graph()\n",
    "for e in [(0,1), (1,2)]:\n",
    "    G.add_edge(*e)\n",
    "nx.draw_circular(G, with_labels=True, font_size=30)"
   ]
  },
  {
   "cell_type": "code",
   "execution_count": 11,
   "metadata": {},
   "outputs": [
    {
     "data": {
      "text/plain": [
       "matrix([[0. , 0.5, 0. ],\n",
       "        [1. , 0. , 1. ],\n",
       "        [0. , 0.5, 0. ]])"
      ]
     },
     "execution_count": 11,
     "metadata": {},
     "output_type": "execute_result"
    }
   ],
   "source": [
    "X = nx.linalg.adj_matrix(G).todense()/np.array(list(dict(G.degree).values()))\n",
    "X"
   ]
  },
  {
   "cell_type": "code",
   "execution_count": 12,
   "metadata": {},
   "outputs": [
    {
     "data": {
      "text/html": [
       "\n",
       "        <iframe\n",
       "            width=\"500px\"\n",
       "            height=\"300px\"\n",
       "            src=\"out.html\"\n",
       "            frameborder=\"0\"\n",
       "            allowfullscreen\n",
       "        ></iframe>\n",
       "        "
      ],
      "text/plain": [
       "<IPython.lib.display.IFrame at 0x239a2381bb0>"
      ]
     },
     "execution_count": 12,
     "metadata": {},
     "output_type": "execute_result"
    }
   ],
   "source": [
    "visualize_Markov(X)"
   ]
  },
  {
   "cell_type": "code",
   "execution_count": 13,
   "metadata": {},
   "outputs": [
    {
     "data": {
      "text/plain": [
       "matrix([[0.5, 0. , 0.5],\n",
       "        [0. , 1. , 0. ],\n",
       "        [0.5, 0. , 0.5]])"
      ]
     },
     "execution_count": 13,
     "metadata": {},
     "output_type": "execute_result"
    }
   ],
   "source": [
    "np.linalg.matrix_power(X,2)"
   ]
  },
  {
   "cell_type": "code",
   "execution_count": 14,
   "metadata": {},
   "outputs": [
    {
     "data": {
      "text/plain": [
       "matrix([[0. , 0.5, 0. ],\n",
       "        [1. , 0. , 1. ],\n",
       "        [0. , 0.5, 0. ]])"
      ]
     },
     "execution_count": 14,
     "metadata": {},
     "output_type": "execute_result"
    }
   ],
   "source": [
    "np.linalg.matrix_power(X, 3)"
   ]
  },
  {
   "cell_type": "markdown",
   "metadata": {},
   "source": [
    "# 9.2 "
   ]
  },
  {
   "cell_type": "code",
   "execution_count": 15,
   "metadata": {},
   "outputs": [
    {
     "data": {
      "text/plain": [
       "array([[0.17151122, 0.        , 0.        , 0.        , 0.21753154],\n",
       "       [0.41275405, 0.21311289, 0.        , 0.46339479, 0.78246846],\n",
       "       [0.        , 0.        , 0.        , 0.16016969, 0.        ],\n",
       "       [0.        , 0.78688711, 1.        , 0.37643552, 0.        ],\n",
       "       [0.41573472, 0.        , 0.        , 0.        , 0.        ]])"
      ]
     },
     "execution_count": 15,
     "metadata": {},
     "output_type": "execute_result"
    }
   ],
   "source": [
    "M"
   ]
  },
  {
   "cell_type": "code",
   "execution_count": 16,
   "metadata": {},
   "outputs": [
    {
     "data": {
      "text/html": [
       "\n",
       "        <iframe\n",
       "            width=\"500px\"\n",
       "            height=\"300px\"\n",
       "            src=\"out.html\"\n",
       "            frameborder=\"0\"\n",
       "            allowfullscreen\n",
       "        ></iframe>\n",
       "        "
      ],
      "text/plain": [
       "<IPython.lib.display.IFrame at 0x239a2427af0>"
      ]
     },
     "execution_count": 16,
     "metadata": {},
     "output_type": "execute_result"
    }
   ],
   "source": [
    "visualize_Markov(M)"
   ]
  },
  {
   "cell_type": "code",
   "execution_count": 17,
   "metadata": {
    "scrolled": true
   },
   "outputs": [
    {
     "data": {
      "text/plain": [
       "array([ 1.        +0.j,  0.39846864+0.j,  0.07091159+0.j, -0.22695742+0.j,\n",
       "       -0.48136317+0.j])"
      ]
     },
     "execution_count": 17,
     "metadata": {},
     "output_type": "execute_result"
    }
   ],
   "source": [
    "eigvalues, eigenvec = scipy.linalg.eig(M)\n",
    "# eigenvec = np.real(eigenvec)\n",
    "eigvalues"
   ]
  },
  {
   "cell_type": "code",
   "execution_count": 18,
   "metadata": {},
   "outputs": [
    {
     "data": {
      "text/plain": [
       "array([[-0.  , -0.33, -0.  , -0.31,  0.  ],\n",
       "       [-0.5 , -0.36,  0.8 , -0.08, -0.53],\n",
       "       [-0.14,  0.3 , -0.55,  0.43, -0.27],\n",
       "       [-0.85,  0.74, -0.24, -0.61,  0.8 ],\n",
       "       [-0.  , -0.35, -0.  ,  0.57, -0.  ]])"
      ]
     },
     "execution_count": 18,
     "metadata": {},
     "output_type": "execute_result"
    }
   ],
   "source": [
    "np.round(eigenvec, 2)"
   ]
  },
  {
   "cell_type": "code",
   "execution_count": 19,
   "metadata": {
    "scrolled": false
   },
   "outputs": [
    {
     "data": {
      "text/plain": [
       "array([[[0.  ]],\n",
       "\n",
       "       [[0.34]],\n",
       "\n",
       "       [[0.09]],\n",
       "\n",
       "       [[0.57]],\n",
       "\n",
       "       [[0.  ]]])"
      ]
     },
     "execution_count": 19,
     "metadata": {},
     "output_type": "execute_result"
    }
   ],
   "source": [
    "pi = eigenvec[: ,np.where(np.abs(eigvalues - 1)<1e-14),]\n",
    "pi /= pi.sum()\n",
    "np.round(pi, 2)"
   ]
  },
  {
   "cell_type": "markdown",
   "metadata": {},
   "source": [
    "# 9.3\n",
    "Determine dynamically (by iterating the Markov operator)ergodic density for the random walk on selected network. [20%]"
   ]
  },
  {
   "cell_type": "code",
   "execution_count": 20,
   "metadata": {},
   "outputs": [
    {
     "data": {
      "text/html": [
       "\n",
       "        <iframe\n",
       "            width=\"500px\"\n",
       "            height=\"300px\"\n",
       "            src=\"out.html\"\n",
       "            frameborder=\"0\"\n",
       "            allowfullscreen\n",
       "        ></iframe>\n",
       "        "
      ],
      "text/plain": [
       "<IPython.lib.display.IFrame at 0x239a34b2580>"
      ]
     },
     "execution_count": 20,
     "metadata": {},
     "output_type": "execute_result"
    }
   ],
   "source": [
    "visualize_Markov(M)"
   ]
  },
  {
   "cell_type": "code",
   "execution_count": 21,
   "metadata": {},
   "outputs": [],
   "source": [
    "new = M.copy()\n",
    "for i in range(30):\n",
    "    new= np.dot(new, new)\n",
    "    new = new/new.sum(0)"
   ]
  },
  {
   "cell_type": "code",
   "execution_count": 22,
   "metadata": {},
   "outputs": [
    {
     "data": {
      "text/plain": [
       "array([[0.  , 0.  , 0.  , 0.  , 0.  ],\n",
       "       [0.34, 0.34, 0.34, 0.34, 0.34],\n",
       "       [0.09, 0.09, 0.09, 0.09, 0.09],\n",
       "       [0.57, 0.57, 0.57, 0.57, 0.57],\n",
       "       [0.  , 0.  , 0.  , 0.  , 0.  ]])"
      ]
     },
     "execution_count": 22,
     "metadata": {},
     "output_type": "execute_result"
    }
   ],
   "source": [
    "new.round(2)"
   ]
  },
  {
   "cell_type": "code",
   "execution_count": 23,
   "metadata": {},
   "outputs": [
    {
     "data": {
      "text/html": [
       "\n",
       "        <iframe\n",
       "            width=\"500px\"\n",
       "            height=\"300px\"\n",
       "            src=\"out.html\"\n",
       "            frameborder=\"0\"\n",
       "            allowfullscreen\n",
       "        ></iframe>\n",
       "        "
      ],
      "text/plain": [
       "<IPython.lib.display.IFrame at 0x239a2423970>"
      ]
     },
     "execution_count": 23,
     "metadata": {},
     "output_type": "execute_result"
    }
   ],
   "source": [
    "visualize_Markov(new)"
   ]
  },
  {
   "cell_type": "markdown",
   "metadata": {},
   "source": [
    "#  9.5 \n",
    "Determine the value of classic or modified pagerank for theselected network. [30%]"
   ]
  },
  {
   "cell_type": "code",
   "execution_count": 24,
   "metadata": {},
   "outputs": [
    {
     "data": {
      "image/png": "[encoded data removed]",
      "text/plain": [
       "<Figure size 432x288 with 1 Axes>"
      ]
     },
     "metadata": {},
     "output_type": "display_data"
    }
   ],
   "source": [
    "G = nx.DiGraph(nx.directed.random_k_out_graph(10, 8, 0.7, seed=12))\n",
    "nx.draw_kamada_kawai(G, with_labels=True)"
   ]
  },
  {
   "cell_type": "code",
   "execution_count": 25,
   "metadata": {},
   "outputs": [
    {
     "data": {
      "text/plain": [
       "array([[0.  , 0.  , 0.25, 0.  , 0.  , 0.25, 0.25, 0.  , 0.  , 0.25],\n",
       "       [0.2 , 0.  , 0.2 , 0.  , 0.  , 0.  , 0.2 , 0.  , 0.2 , 0.2 ],\n",
       "       [0.  , 0.  , 0.2 , 0.2 , 0.  , 0.2 , 0.2 , 0.  , 0.  , 0.2 ],\n",
       "       [0.  , 0.2 , 0.2 , 0.  , 0.2 , 0.  , 0.2 , 0.2 , 0.  , 0.  ],\n",
       "       [0.2 , 0.  , 0.  , 0.  , 0.2 , 0.2 , 0.2 , 0.  , 0.  , 0.2 ],\n",
       "       [0.  , 0.  , 0.25, 0.  , 0.25, 0.  , 0.25, 0.25, 0.  , 0.  ],\n",
       "       [0.25, 0.  , 0.  , 0.  , 0.  , 0.  , 0.25, 0.25, 0.  , 0.25],\n",
       "       [0.  , 0.  , 0.25, 0.  , 0.  , 0.25, 0.25, 0.  , 0.  , 0.25],\n",
       "       [0.  , 0.  , 0.25, 0.  , 0.25, 0.  , 0.25, 0.  , 0.  , 0.25],\n",
       "       [0.2 , 0.  , 0.2 , 0.  , 0.2 , 0.2 , 0.2 , 0.  , 0.  , 0.  ]])"
      ]
     },
     "execution_count": 25,
     "metadata": {},
     "output_type": "execute_result"
    }
   ],
   "source": [
    "A = nx.linalg.adj_matrix(G).todense()\n",
    "(A/A.sum(1)).round(2)"
   ]
  },
  {
   "cell_type": "code",
   "execution_count": 26,
   "metadata": {},
   "outputs": [
    {
     "data": {
      "text/plain": [
       "array([0.23051419, 0.16238759, 0.29361481, 0.17124022, 0.2374419 ,\n",
       "       0.24947197, 0.34168885, 0.21584362, 0.16174719, 0.28604967])"
      ]
     },
     "execution_count": 26,
     "metadata": {},
     "output_type": "execute_result"
    }
   ],
   "source": [
    "from copy import copy\n",
    "class PageRank:\n",
    "    def __init__(self, G: nx.Graph, beta:float=0.15, n_iter:int =500):\n",
    "        self.beta = beta\n",
    "        self.n_iter = n_iter\n",
    "        self.G = G\n",
    "        self.adj_matrix = nx.linalg.adj_matrix(G).todense()\n",
    "        self.adj_matrix = self.adj_matrix / self.adj_matrix.sum(axis=1)\n",
    "        self.page_rank = np.ones(len(G.nodes)).reshape(1, -1)\n",
    "    def update_page_rank(self):\n",
    "        self.page_rank =  self.page_rank @ self.adj_matrix \n",
    "        self.page_rank/= self.page_rank.sum()\n",
    "        self.page_rank = self.beta/len(self.page_rank) + (1-self.beta)*self.page_rank\n",
    "    def get_page_rank(self):\n",
    "        for _ in range(self.n_iter):\n",
    "            self.update_page_rank()\n",
    "        return np.array(self.page_rank).reshape(-1)\n",
    "pr = PageRank(G).get_page_rank()\n",
    "pr"
   ]
  },
  {
   "cell_type": "code",
   "execution_count": 27,
   "metadata": {},
   "outputs": [
    {
     "data": {
      "image/png": "[encoded data removed]",
      "text/plain": [
       "<Figure size 432x288 with 1 Axes>"
      ]
     },
     "metadata": {},
     "output_type": "display_data"
    }
   ],
   "source": [
    "nx.draw_kamada_kawai(G, with_labels=True, node_size=pr**3*1e5)"
   ]
  },
  {
   "cell_type": "code",
   "execution_count": null,
   "metadata": {},
   "outputs": [],
   "source": []
  }
 ],
 "metadata": {
  "kernelspec": {
   "display_name": "AML_log_regression_optimization",
   "language": "python",
   "name": "aml_log_regression_optimization"
  },
  "language_info": {
   "codemirror_mode": {
    "name": "ipython",
    "version": 3
   },
   "file_extension": ".py",
   "mimetype": "text/x-python",
   "name": "python",
   "nbconvert_exporter": "python",
   "pygments_lexer": "ipython3",
   "version": "3.8.8"
  }
 },
 "nbformat": 4,
 "nbformat_minor": 4
}
