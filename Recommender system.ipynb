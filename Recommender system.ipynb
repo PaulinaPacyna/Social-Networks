{
 "cells": [
  {
   "cell_type": "code",
   "execution_count": 1,
   "metadata": {},
   "outputs": [],
   "source": [
    "import os\n",
    "import re\n",
    "from collections import Counter\n",
    "from typing import List, Dict\n",
    "\n",
    "import pandas as pd\n",
    "from scipy.stats import pearsonr\n",
    "from sklearn.model_selection import train_test_split\n",
    "\n",
    "DATA_DIR = \"netflix_data\"\n",
    "COMBINED_DATA = \"combined_data_{}.txt\"\n",
    "\n",
    "\n",
    "class Recommender:\n",
    "    def __init__(self, user_id, n_similar, min_common):\n",
    "        self.user_id = user_id\n",
    "        self.n_similar = n_similar\n",
    "        self.min_common = min_common\n",
    "        self.my_features = self.__extract_user_data()\n",
    "        self.similar = []\n",
    "\n",
    "    def __extract_user_data(self) -> Dict[int, Dict]:\n",
    "        \"\"\"Extract movies, ratings and dates for this specific user\"\"\"\n",
    "        data: List[str] = []\n",
    "        collect = False\n",
    "        for file_name in [\n",
    "            os.path.join(DATA_DIR, COMBINED_DATA.format(i + 1)) for i in list(range(4))\n",
    "        ]:\n",
    "            with open(file_name) as f:\n",
    "                for line in f:\n",
    "                    line = line.strip()\n",
    "                    if re.match(r\"\\d+:\", line):\n",
    "                        if collect:  # if the data has already been collected\n",
    "                            return self.__extract_features(data)\n",
    "                        elif re.match(re.compile(f\"{self.user_id}:\"), line):\n",
    "                            collect = True  # if this is the user id we are looking for, start collecting\n",
    "                        else:  # if the user_id is different that our\n",
    "                            continue\n",
    "                    else:\n",
    "                        if collect:\n",
    "                            data.append(line)\n",
    "        return self.__extract_features(data)\n",
    "\n",
    "    def compute_similar(self) -> Dict:\n",
    "        \"\"\"Parse the file line by line, compute similarity between users, and if high, save the user,\n",
    "        similarity score and preferred movies\"\"\"\n",
    "        friend_id = None\n",
    "        data: List[str] = []\n",
    "        for file_name in [\n",
    "            os.path.join(DATA_DIR, COMBINED_DATA.format(i + 1)) for i in list(range(4))\n",
    "        ]:\n",
    "            with open(file_name) as f:\n",
    "                for line in f:\n",
    "                    line = line.strip()\n",
    "                    if re.match(r\"\\d+:\", line):\n",
    "                        if friend_id:\n",
    "                            features = self.__extract_features(\n",
    "                                data\n",
    "                            )  # parse lines of data to features\n",
    "                            similarity = self.similarity(\n",
    "                                self.my_features, features\n",
    "                            )  # compute similarity of our\n",
    "                            # two users\n",
    "                            self.similar += [\n",
    "                                {\n",
    "                                    \"user\": friend_id,\n",
    "                                    \"similarity\": similarity,\n",
    "                                    \"movies\": features,\n",
    "                                }\n",
    "                            ]  # save the results for the top\n",
    "                            # n_similar users\n",
    "                        friend_id = int(re.findall(r\"(\\d+):\", line)[0])\n",
    "#                         if friend_id > LIMIT_USERS:\n",
    "#                             return self.similar\n",
    "                        data = []\n",
    "                    else:\n",
    "                        if friend_id != self.user_id:\n",
    "                            data.append(line)\n",
    "        return self.similar\n",
    "\n",
    "    def recommend(self) -> Counter:\n",
    "        \"\"\"Recommend the most popular movies among similar users that were not watched by the user\"\"\"\n",
    "        similar = self.compute_similar()\n",
    "        weighted_average = {}\n",
    "        for feature in similar:\n",
    "            for movie_id, rating in feature[\"movies\"].items():\n",
    "                if movie_id not in weighted_average:\n",
    "                    weighted_average[movie_id] = [0] * 3  # numerator, denominator, count\n",
    "                weighted_average[movie_id][0] += rating * feature[\"similarity\"]\n",
    "                weighted_average[movie_id][1] += feature[\"similarity\"]\n",
    "                weighted_average[movie_id][2] += 1\n",
    "        result = {\n",
    "            movie_id: value[0] / value[1] if value[0] > 1e-13 else 0\n",
    "            for movie_id, value in weighted_average.items()\n",
    "            if value[2] > self.min_common\n",
    "        }\n",
    "        return result\n",
    "\n",
    "    @staticmethod\n",
    "    def __extract_features(data: List[str]) -> Dict[int, Dict]:\n",
    "        \"\"\"Transform a line of text like \"movie_id,rating,date\" to a dict\n",
    "        {int(movie_id): {\"rating\": int(rating),\n",
    "                        \"date\": datetime.strptime(date, \"%Y-%m-%d\")}\"\"\"\n",
    "        data_m = [line.split(\",\") for line in data]\n",
    "        return {int(movie_id): int(rating) for movie_id, rating, date in data_m}\n",
    "\n",
    "    def similarity(\n",
    "            self, features1: Dict[int, Dict], features2: Dict[int, Dict]\n",
    "    ) -> float:\n",
    "        \"\"\"Compute the similarity based on the correlation between ratings of movies\"\"\"\n",
    "        common = set(features1.keys()).intersection(features2.keys())\n",
    "#         common = [x for x in common if x < LIMIT_MOVIES] \n",
    "        if len(common) < self.min_common:\n",
    "            return .0\n",
    "        val1 = [features1[k] for k in common]\n",
    "        val2 = [features2[k] for k in common]\n",
    "        return float((pearsonr(val1, val2)[0] + 1) / 2)"
   ]
  },
  {
   "cell_type": "markdown",
   "metadata": {},
   "source": [
    "Initializing the instance."
   ]
  },
  {
   "cell_type": "code",
   "execution_count": 2,
   "metadata": {},
   "outputs": [
    {
     "data": {
      "text/plain": [
       "1488844    3\n",
       "822109     5\n",
       "885013     4\n",
       "30878      4\n",
       "823519     3\n",
       "          ..\n",
       "1790158    4\n",
       "1403184    3\n",
       "1535440    4\n",
       "1426604    4\n",
       "1815755    5\n",
       "Length: 547, dtype: int64"
      ]
     },
     "execution_count": 2,
     "metadata": {},
     "output_type": "execute_result"
    }
   ],
   "source": [
    "r = Recommender(user_id=1, n_similar=5, min_common=10)\n",
    "pd.Series(r.my_features)"
   ]
  },
  {
   "cell_type": "markdown",
   "metadata": {},
   "source": [
    "`r.my_features` is a list of movie and a the movie rating for the user `1`"
   ]
  },
  {
   "cell_type": "code",
   "execution_count": 3,
   "metadata": {},
   "outputs": [
    {
     "data": {
      "text/plain": [
       "547"
      ]
     },
     "execution_count": 3,
     "metadata": {},
     "output_type": "execute_result"
    }
   ],
   "source": [
    "my_movies = list(r.my_features.keys())\n",
    "len(r.my_features)"
   ]
  },
  {
   "cell_type": "markdown",
   "metadata": {},
   "source": [
    "We will split the dictionary into test and train subsets, to evaluate later"
   ]
  },
  {
   "cell_type": "code",
   "execution_count": 4,
   "metadata": {},
   "outputs": [
    {
     "data": {
      "text/plain": [
       "410"
      ]
     },
     "execution_count": 4,
     "metadata": {},
     "output_type": "execute_result"
    }
   ],
   "source": [
    "train, test = train_test_split(my_movies)\n",
    "test_features = {k: v for k, v in r.my_features.items() if k in test}\n",
    "r.my_features = {k: v for k, v in r.my_features.items() if k in train}\n",
    "len(r.my_features)"
   ]
  },
  {
   "cell_type": "markdown",
   "metadata": {},
   "source": [
    "The `r.recommend` method computes the similarity between this user and every other user, and predicts the ratings of movies. The ratings are computed using a weighted average of the ratings of movies by other users, where the weights are equal to the similarity of two users."
   ]
  },
  {
   "cell_type": "code",
   "execution_count": 5,
   "metadata": {},
   "outputs": [
    {
     "name": "stdout",
     "output_type": "stream",
     "text": [
      "Similarity:  0.7834243537974245\n"
     ]
    }
   ],
   "source": [
    "recommended = r.recommend()\n",
    "print(\"Similarity: \", r.similarity(test_features, recommended))"
   ]
  },
  {
   "cell_type": "markdown",
   "metadata": {},
   "source": [
    "The similarity is computed based on the pearson correlation scaled to [0,1] interval."
   ]
  },
  {
   "cell_type": "code",
   "execution_count": 6,
   "metadata": {},
   "outputs": [
    {
     "data": {
      "text/html": [
       "<div>\n",
       "<style scoped>\n",
       "    .dataframe tbody tr th:only-of-type {\n",
       "        vertical-align: middle;\n",
       "    }\n",
       "\n",
       "    .dataframe tbody tr th {\n",
       "        vertical-align: top;\n",
       "    }\n",
       "\n",
       "    .dataframe thead th {\n",
       "        text-align: right;\n",
       "    }\n",
       "</style>\n",
       "<table border=\"1\" class=\"dataframe\">\n",
       "  <thead>\n",
       "    <tr style=\"text-align: right;\">\n",
       "      <th></th>\n",
       "      <th>movie</th>\n",
       "      <th>recommendation</th>\n",
       "      <th>test_rating</th>\n",
       "    </tr>\n",
       "  </thead>\n",
       "  <tbody>\n",
       "    <tr>\n",
       "      <th>416004</th>\n",
       "      <td>2380848</td>\n",
       "      <td>5.000000</td>\n",
       "      <td>5.0</td>\n",
       "    </tr>\n",
       "    <tr>\n",
       "      <th>178364</th>\n",
       "      <td>1559445</td>\n",
       "      <td>5.000000</td>\n",
       "      <td>5.0</td>\n",
       "    </tr>\n",
       "    <tr>\n",
       "      <th>2553</th>\n",
       "      <td>99400</td>\n",
       "      <td>4.867845</td>\n",
       "      <td>5.0</td>\n",
       "    </tr>\n",
       "    <tr>\n",
       "      <th>350108</th>\n",
       "      <td>2078679</td>\n",
       "      <td>4.751492</td>\n",
       "      <td>5.0</td>\n",
       "    </tr>\n",
       "    <tr>\n",
       "      <th>328639</th>\n",
       "      <td>2151149</td>\n",
       "      <td>4.745962</td>\n",
       "      <td>4.0</td>\n",
       "    </tr>\n",
       "    <tr>\n",
       "      <th>...</th>\n",
       "      <td>...</td>\n",
       "      <td>...</td>\n",
       "      <td>...</td>\n",
       "    </tr>\n",
       "    <tr>\n",
       "      <th>19467</th>\n",
       "      <td>1107588</td>\n",
       "      <td>2.549683</td>\n",
       "      <td>1.0</td>\n",
       "    </tr>\n",
       "    <tr>\n",
       "      <th>1671</th>\n",
       "      <td>2056022</td>\n",
       "      <td>2.478133</td>\n",
       "      <td>3.0</td>\n",
       "    </tr>\n",
       "    <tr>\n",
       "      <th>5720</th>\n",
       "      <td>1578279</td>\n",
       "      <td>2.312021</td>\n",
       "      <td>1.0</td>\n",
       "    </tr>\n",
       "    <tr>\n",
       "      <th>18927</th>\n",
       "      <td>2256485</td>\n",
       "      <td>1.884405</td>\n",
       "      <td>1.0</td>\n",
       "    </tr>\n",
       "    <tr>\n",
       "      <th>3498</th>\n",
       "      <td>1567202</td>\n",
       "      <td>1.776062</td>\n",
       "      <td>2.0</td>\n",
       "    </tr>\n",
       "  </tbody>\n",
       "</table>\n",
       "<p>136 rows × 3 columns</p>\n",
       "</div>"
      ],
      "text/plain": [
       "          movie  recommendation  test_rating\n",
       "416004  2380848        5.000000          5.0\n",
       "178364  1559445        5.000000          5.0\n",
       "2553      99400        4.867845          5.0\n",
       "350108  2078679        4.751492          5.0\n",
       "328639  2151149        4.745962          4.0\n",
       "...         ...             ...          ...\n",
       "19467   1107588        2.549683          1.0\n",
       "1671    2056022        2.478133          3.0\n",
       "5720    1578279        2.312021          1.0\n",
       "18927   2256485        1.884405          1.0\n",
       "3498    1567202        1.776062          2.0\n",
       "\n",
       "[136 rows x 3 columns]"
      ]
     },
     "execution_count": 6,
     "metadata": {},
     "output_type": "execute_result"
    }
   ],
   "source": [
    "recommended_series = pd.DataFrame(\n",
    "    recommended.items(), columns=[\"movie\", \"recommendation\"]\n",
    ").sort_values(\"recommendation\", ascending=False)\n",
    "recommended_series[\"test_rating\"] = recommended_series[\"movie\"].map(test_features)\n",
    "recommended_series[~recommended_series[\"test_rating\"].isna()] "
   ]
  }
 ],
 "metadata": {
  "kernelspec": {
   "display_name": "AML_log_regression_optimization",
   "language": "python",
   "name": "aml_log_regression_optimization"
  },
  "language_info": {
   "codemirror_mode": {
    "name": "ipython",
    "version": 3
   },
   "file_extension": ".py",
   "mimetype": "text/x-python",
   "name": "python",
   "nbconvert_exporter": "python",
   "pygments_lexer": "ipython3",
   "version": "3.8.8"
  }
 },
 "nbformat": 4,
 "nbformat_minor": 4
}
